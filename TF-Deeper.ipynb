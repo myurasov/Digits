{
 "cells": [
  {
   "cell_type": "markdown",
   "metadata": {},
   "source": [
    "### Kaggle.com – Digits Recognition – Deeper Version\n",
    "https://www.kaggle.com/c/digit-recognizer\n",
    "\n",
    "`conv/pool/conv/pool/fc/readout -> conv/conv/pool/conv/conv/pool/fc/readout`"
   ]
  },
  {
   "cell_type": "code",
   "execution_count": 1,
   "metadata": {
    "collapsed": true
   },
   "outputs": [],
   "source": [
    "import tensorflow as tf\n",
    "import numpy as np\n",
    "import matplotlib.pyplot as plt\n",
    "%matplotlib inline"
   ]
  },
  {
   "cell_type": "markdown",
   "metadata": {},
   "source": [
    "#### Model"
   ]
  },
  {
   "cell_type": "code",
   "execution_count": 2,
   "metadata": {
    "collapsed": false
   },
   "outputs": [],
   "source": [
    "class DigitsModel(object):\n",
    "    \n",
    "    def _create_weight_variable(self, shape):\n",
    "        initial = tf.truncated_normal(shape, stddev=0.1)\n",
    "        return tf.Variable(initial)\n",
    "    \n",
    "    def _create_bias_variable(self, shape):\n",
    "        initial = tf.constant(0.1, shape=shape)\n",
    "        return tf.Variable(initial)\n",
    "    \n",
    "    def _create_conv2d(self, x, W):\n",
    "        # return tf.nn.conv2d(x, W, strides=[1, 1, 1, 1], padding='SAME')\n",
    "    \n",
    "    def _create_max_pool_2x2(self, x):\n",
    "        return tf.nn.max_pool(x, ksize=[1, 2, 2, 1], strides=[1, 2, 2, 1], padding='SAME')\n",
    "    \n",
    "    def _init_model(self):    \n",
    "        # input features\n",
    "        self._x = tf.placeholder(tf.float32, shape=[None, 784])\n",
    "        \n",
    "        # reshape features to 2d shape\n",
    "        self._x_image = tf.reshape(self._x, [-1,28,28,1])\n",
    "        \n",
    "        # known labels\n",
    "        self._y_ = tf.placeholder(tf.float32, [None, 10])\n",
    "        \n",
    "        # layer 1\n",
    "        self._W_conv_1 = self._create_weight_variable([3, 3, 1, 32])\n",
    "        self._b_conv_1 = self._create_bias_variable([32])\n",
    "        self._conv_1 = tf.nn.relu(self._create_conv2d(self._x_image, self._W_conv_1) + self._b_conv_1)\n",
    "        self._W_conv_1_2 = self._create_weight_variable([3, 3, 32, 32])\n",
    "        self._b_conv_1_2 = self._create_bias_variable([32])\n",
    "        self._conv_1_2 = tf.nn.relu(self._create_conv2d(self._conv_1, self._W_conv_1_2) + self._b_conv_1_2)\n",
    "        self._pool_1 = self._create_max_pool_2x2(self._conv_1_2)\n",
    "        \n",
    "        # layer 2\n",
    "        self._W_conv_2 = self._create_weight_variable([3, 3, 32, 64])\n",
    "        self._b_conv_2 = self._create_bias_variable([64])\n",
    "        self._conv_2 = tf.nn.relu(self._create_conv2d(self._pool_1, self._W_conv_2) + self._b_conv_2)\n",
    "        self._W_conv_2_2 = self._create_weight_variable([3, 3, 64, 64])\n",
    "        self._b_conv_2_2 = self._create_bias_variable([64])\n",
    "        self._conv_2_2 = tf.nn.relu(self._create_conv2d(self._conv_2, self._W_conv_2_2) + self._b_conv_2_2)\n",
    "        self._pool_2 = self._create_max_pool_2x2(self._conv_2_2)\n",
    "        \n",
    "        # fully-connected layer\n",
    "        # connects 3136 features (7*7*64) from _pool2 to 1024 _fc nodes\n",
    "        self._W_fc_1 = self._create_weight_variable([7 * 7 * 64, 1024])\n",
    "        self._b_fc_1 = self._create_bias_variable([1024])\n",
    "        self._pool_2_flattened = tf.reshape(self._pool_2, [-1, 7 * 7* 64])\n",
    "        self._fc_1 = tf.nn.relu(tf.matmul(self._pool_2_flattened, self._W_fc_1) + self._b_fc_1)\n",
    "        \n",
    "        # dropout layer\n",
    "        self._keep_prob_1 = tf.placeholder(tf.float32) # how many features to keep (should be 1. in inference)\n",
    "        self._dropout_1 = tf.nn.dropout(self._fc_1, self._keep_prob_1)\n",
    "        \n",
    "        # readout layer\n",
    "        # 1024 features from _fc+_dropout -> 10 outputs\n",
    "        self._W_readout = self._create_weight_variable([1024, 10])\n",
    "        self._b_readout = self._create_bias_variable([10])\n",
    "        self._readout = tf.nn.softmax(tf.matmul(self._dropout_1, self._W_readout) + self._b_readout)\n",
    "        \n",
    "    def _init_training(self):\n",
    "        # loss function\n",
    "        self._loss_fn = tf.reduce_mean(-tf.reduce_sum(self._y_ * tf.log(self._readout), reduction_indices=[1]))\n",
    "        \n",
    "        # ADAM solver, 0.0001 rate\n",
    "        self._train_step = tf.train.AdamOptimizer(1e-4).minimize(self._loss_fn)\n",
    "        \n",
    "        # match predicted values against the correct ones\n",
    "        self._prediction_matches = tf.equal(tf.argmax(self._readout, 1), tf.argmax(self._y_, 1))\n",
    "\n",
    "        # accuracy metric\n",
    "        self._accuracy = tf.reduce_mean(tf.cast(self._prediction_matches, tf.float32))\n",
    "    \n",
    "    def init(self):\n",
    "        self._init_model()\n",
    "        self._init_training()\n",
    "        \n",
    "        # init session\n",
    "        i = tf.initialize_all_variables()\n",
    "        self._sess = tf.Session()\n",
    "        self._sess.run(i)\n",
    "        \n",
    "        # write logs for tensorboard\n",
    "        self._summary_writer = tf.train.SummaryWriter(\n",
    "            '/tmp/kaggle-tf-deeper-2', self._sess.graph\n",
    "        )\n",
    "        \n",
    "    def train_step(self, features_batch, labels_batch):\n",
    "        feed_dict = {\n",
    "                        self._x: features_batch,\n",
    "                        self._y_: labels_batch,\n",
    "                        self._keep_prob_1: 0.75\n",
    "                    }\n",
    "        self._sess.run(self._train_step, feed_dict=feed_dict)\n",
    "        \n",
    "    def get_accuracy(self, features, labels):\n",
    "        feed_dict = {\n",
    "                        self._x: features,\n",
    "                        self._y_: labels,\n",
    "                        self._keep_prob_1: 1.0\n",
    "                    }\n",
    "        return self._sess.run(self._accuracy, feed_dict=feed_dict)  \n",
    "    \n",
    "        \n",
    "    def get_readout(self, features):\n",
    "        feed_dict = {\n",
    "                        self._x: features,\n",
    "                        self._keep_prob_1: 1.0\n",
    "                    }\n",
    "        return self._sess.run(self._readout, feed_dict=feed_dict)  "
   ]
  },
  {
   "cell_type": "markdown",
   "metadata": {},
   "source": [
    "#### Data Manipulation Helpers"
   ]
  },
  {
   "cell_type": "code",
   "execution_count": 3,
   "metadata": {
    "collapsed": true
   },
   "outputs": [],
   "source": [
    "# read features\n",
    "def read_features_from_csv(filename, usecols=range(1,785)):\n",
    "    features = np.genfromtxt(filename, delimiter=',', skip_header=1, usecols=usecols, dtype=np.float32)\n",
    "    features = np.divide(features, 255.0) # scale 0..255 to 0..1\n",
    "    return features\n",
    "\n",
    "# read labels and convert them to 1-hot vectors\n",
    "def read_labels_from_csv(filename):\n",
    "    labels_orig = np.genfromtxt(filename, delimiter=',', skip_header=1, usecols=0, dtype=np.int)\n",
    "    labels = np.zeros([len(labels_orig), 10])\n",
    "    labels[np.arange(len(labels_orig)), labels_orig] = 1\n",
    "    labels = labels.astype(np.float32)\n",
    "    return labels\n",
    "\n",
    "# generate batches\n",
    "def generate_batch(features, labels, batch_size):\n",
    "    batch_indexes = np.random.random_integers(0, len(features) - 1, batch_size)\n",
    "    batch_features = features[batch_indexes]\n",
    "    batch_labels = labels[batch_indexes]\n",
    "    return (batch_features, batch_labels)"
   ]
  },
  {
   "cell_type": "markdown",
   "metadata": {},
   "source": [
    "#### Prepare Data"
   ]
  },
  {
   "cell_type": "code",
   "execution_count": 4,
   "metadata": {
    "collapsed": true
   },
   "outputs": [],
   "source": [
    "# load data\n",
    "features = read_features_from_csv('train.csv')\n",
    "labels = read_labels_from_csv('train.csv')"
   ]
  },
  {
   "cell_type": "code",
   "execution_count": 5,
   "metadata": {
    "collapsed": true
   },
   "outputs": [],
   "source": [
    "# training params\n",
    "BATCH_SIZE = 50\n",
    "TRAIN_SPLIT = 0.999 # training/validation split\n",
    "TRAINING_STEPS = 20000"
   ]
  },
  {
   "cell_type": "code",
   "execution_count": 6,
   "metadata": {
    "collapsed": false
   },
   "outputs": [],
   "source": [
    "# split data into training and validation sets\n",
    "train_samples = int(len(features) / (1 / TRAIN_SPLIT))\n",
    "train_features = features[:train_samples]\n",
    "train_labels = labels[:train_samples]\n",
    "validation_features = features[train_samples:]\n",
    "validation_labels = labels[train_samples:]"
   ]
  },
  {
   "cell_type": "markdown",
   "metadata": {},
   "source": [
    "#### Run Training"
   ]
  },
  {
   "cell_type": "code",
   "execution_count": 7,
   "metadata": {
    "collapsed": false
   },
   "outputs": [],
   "source": [
    "model = DigitsModel()\n",
    "model.init()"
   ]
  },
  {
   "cell_type": "code",
   "execution_count": 8,
   "metadata": {
    "collapsed": false
   },
   "outputs": [
    {
     "name": "stdout",
     "output_type": "stream",
     "text": [
      "step 1 of 20000 / validation accuracy: 0.162791\n",
      "step 66 of 20000 / validation accuracy: 0.72093\n",
      "step 132 of 20000 / validation accuracy: 0.930233\n",
      "step 198 of 20000 / validation accuracy: 0.976744\n",
      "step 264 of 20000 / validation accuracy: 0.953488\n",
      "step 330 of 20000 / validation accuracy: 0.976744\n",
      "step 396 of 20000 / validation accuracy: 0.976744\n",
      "step 462 of 20000 / validation accuracy: 0.976744\n",
      "step 528 of 20000 / validation accuracy: 0.976744\n",
      "step 594 of 20000 / validation accuracy: 0.976744\n",
      "step 660 of 20000 / validation accuracy: 1.0\n",
      "step 726 of 20000 / validation accuracy: 1.0\n",
      "step 792 of 20000 / validation accuracy: 1.0\n",
      "step 858 of 20000 / validation accuracy: 1.0\n",
      "step 924 of 20000 / validation accuracy: 1.0\n",
      "step 990 of 20000 / validation accuracy: 1.0\n",
      "step 1056 of 20000 / validation accuracy: 1.0\n",
      "step 1122 of 20000 / validation accuracy: 1.0\n",
      "step 1188 of 20000 / validation accuracy: 1.0\n",
      "step 1254 of 20000 / validation accuracy: 1.0\n",
      "step 1320 of 20000 / validation accuracy: 1.0\n",
      "step 1386 of 20000 / validation accuracy: 1.0\n",
      "step 1452 of 20000 / validation accuracy: 1.0\n",
      "step 1518 of 20000 / validation accuracy: 1.0\n",
      "step 1584 of 20000 / validation accuracy: 1.0\n",
      "step 1650 of 20000 / validation accuracy: 1.0\n",
      "step 1716 of 20000 / validation accuracy: 1.0\n",
      "step 1782 of 20000 / validation accuracy: 1.0\n",
      "step 1848 of 20000 / validation accuracy: 1.0\n",
      "step 1914 of 20000 / validation accuracy: 1.0\n",
      "step 1980 of 20000 / validation accuracy: 1.0\n",
      "step 2046 of 20000 / validation accuracy: 1.0\n",
      "step 2112 of 20000 / validation accuracy: 1.0\n",
      "step 2178 of 20000 / validation accuracy: 1.0\n",
      "step 2244 of 20000 / validation accuracy: 1.0\n",
      "step 2310 of 20000 / validation accuracy: 1.0\n",
      "step 2376 of 20000 / validation accuracy: 1.0\n",
      "step 2442 of 20000 / validation accuracy: 1.0\n",
      "step 2508 of 20000 / validation accuracy: 1.0\n",
      "step 2574 of 20000 / validation accuracy: 1.0\n",
      "step 2640 of 20000 / validation accuracy: 1.0\n",
      "step 2706 of 20000 / validation accuracy: 1.0\n",
      "step 2772 of 20000 / validation accuracy: 1.0\n",
      "step 2838 of 20000 / validation accuracy: 1.0\n",
      "step 2904 of 20000 / validation accuracy: 1.0\n",
      "step 2970 of 20000 / validation accuracy: 1.0\n",
      "step 3036 of 20000 / validation accuracy: 1.0\n",
      "step 3102 of 20000 / validation accuracy: 1.0\n",
      "step 3168 of 20000 / validation accuracy: 1.0\n",
      "step 3234 of 20000 / validation accuracy: 1.0\n",
      "step 3300 of 20000 / validation accuracy: 1.0\n",
      "step 3366 of 20000 / validation accuracy: 1.0\n",
      "step 3432 of 20000 / validation accuracy: 1.0\n",
      "step 3498 of 20000 / validation accuracy: 1.0\n",
      "step 3564 of 20000 / validation accuracy: 1.0\n",
      "step 3630 of 20000 / validation accuracy: 1.0\n",
      "step 3696 of 20000 / validation accuracy: 1.0\n",
      "step 3762 of 20000 / validation accuracy: 1.0\n",
      "step 3828 of 20000 / validation accuracy: 1.0\n",
      "step 3894 of 20000 / validation accuracy: 1.0\n",
      "step 3960 of 20000 / validation accuracy: 1.0\n",
      "step 4026 of 20000 / validation accuracy: 1.0\n",
      "step 4092 of 20000 / validation accuracy: 1.0\n",
      "step 4158 of 20000 / validation accuracy: 1.0\n",
      "step 4224 of 20000 / validation accuracy: 1.0\n",
      "step 4290 of 20000 / validation accuracy: 1.0\n",
      "step 4356 of 20000 / validation accuracy: 1.0\n",
      "step 4422 of 20000 / validation accuracy: 1.0\n",
      "step 4488 of 20000 / validation accuracy: 1.0\n",
      "step 4554 of 20000 / validation accuracy: 1.0\n",
      "step 4620 of 20000 / validation accuracy: 1.0\n",
      "step 4686 of 20000 / validation accuracy: 1.0\n",
      "step 4752 of 20000 / validation accuracy: 1.0\n",
      "step 4818 of 20000 / validation accuracy: 1.0\n",
      "step 4884 of 20000 / validation accuracy: 1.0\n",
      "step 4950 of 20000 / validation accuracy: 1.0\n",
      "step 5016 of 20000 / validation accuracy: 1.0\n",
      "step 5082 of 20000 / validation accuracy: 1.0\n",
      "step 5148 of 20000 / validation accuracy: 1.0\n",
      "step 5214 of 20000 / validation accuracy: 1.0\n",
      "step 5280 of 20000 / validation accuracy: 1.0\n",
      "step 5346 of 20000 / validation accuracy: 1.0\n",
      "step 5412 of 20000 / validation accuracy: 1.0\n",
      "step 5478 of 20000 / validation accuracy: 1.0\n",
      "step 5544 of 20000 / validation accuracy: 1.0\n",
      "step 5610 of 20000 / validation accuracy: 1.0\n",
      "step 5676 of 20000 / validation accuracy: 1.0\n",
      "step 5742 of 20000 / validation accuracy: 1.0\n",
      "step 5808 of 20000 / validation accuracy: 1.0\n",
      "step 5874 of 20000 / validation accuracy: 1.0\n",
      "step 5940 of 20000 / validation accuracy: 1.0\n",
      "step 6006 of 20000 / validation accuracy: 1.0\n",
      "step 6072 of 20000 / validation accuracy: 1.0\n",
      "step 6138 of 20000 / validation accuracy: 1.0\n",
      "step 6204 of 20000 / validation accuracy: 1.0\n",
      "step 6270 of 20000 / validation accuracy: 1.0\n",
      "step 6336 of 20000 / validation accuracy: 1.0\n",
      "step 6402 of 20000 / validation accuracy: 1.0\n",
      "step 6468 of 20000 / validation accuracy: 1.0\n",
      "step 6534 of 20000 / validation accuracy: 1.0\n",
      "step 6600 of 20000 / validation accuracy: 1.0\n",
      "step 6666 of 20000 / validation accuracy: 1.0\n",
      "step 6732 of 20000 / validation accuracy: 1.0\n",
      "step 6798 of 20000 / validation accuracy: 1.0\n",
      "step 6864 of 20000 / validation accuracy: 1.0\n",
      "step 6930 of 20000 / validation accuracy: 1.0\n",
      "step 6996 of 20000 / validation accuracy: 1.0\n",
      "step 7062 of 20000 / validation accuracy: 1.0\n",
      "step 7128 of 20000 / validation accuracy: 1.0\n",
      "step 7194 of 20000 / validation accuracy: 1.0\n",
      "step 7260 of 20000 / validation accuracy: 1.0\n",
      "step 7326 of 20000 / validation accuracy: 1.0\n",
      "step 7392 of 20000 / validation accuracy: 1.0\n",
      "step 7458 of 20000 / validation accuracy: 1.0\n",
      "step 7524 of 20000 / validation accuracy: 1.0\n",
      "step 7590 of 20000 / validation accuracy: 1.0\n",
      "step 7656 of 20000 / validation accuracy: 1.0\n",
      "step 7722 of 20000 / validation accuracy: 1.0\n",
      "step 7788 of 20000 / validation accuracy: 1.0\n",
      "step 7854 of 20000 / validation accuracy: 1.0\n",
      "step 7920 of 20000 / validation accuracy: 1.0\n",
      "step 7986 of 20000 / validation accuracy: 1.0\n",
      "step 8052 of 20000 / validation accuracy: 1.0\n",
      "step 8118 of 20000 / validation accuracy: 1.0\n",
      "step 8184 of 20000 / validation accuracy: 1.0\n",
      "step 8250 of 20000 / validation accuracy: 1.0\n",
      "step 8316 of 20000 / validation accuracy: 1.0\n",
      "step 8382 of 20000 / validation accuracy: 1.0\n",
      "step 8448 of 20000 / validation accuracy: 1.0\n",
      "step 8514 of 20000 / validation accuracy: 1.0\n",
      "step 8580 of 20000 / validation accuracy: 1.0\n",
      "step 8646 of 20000 / validation accuracy: 1.0\n",
      "step 8712 of 20000 / validation accuracy: 1.0\n",
      "step 8778 of 20000 / validation accuracy: 1.0\n",
      "step 8844 of 20000 / validation accuracy: 1.0\n",
      "step 8910 of 20000 / validation accuracy: 1.0\n",
      "step 8976 of 20000 / validation accuracy: 1.0\n",
      "step 9042 of 20000 / validation accuracy: 1.0\n",
      "step 9108 of 20000 / validation accuracy: 1.0\n",
      "step 9174 of 20000 / validation accuracy: 1.0\n",
      "step 9240 of 20000 / validation accuracy: 1.0\n",
      "step 9306 of 20000 / validation accuracy: 1.0\n",
      "step 9372 of 20000 / validation accuracy: 1.0\n",
      "step 9438 of 20000 / validation accuracy: 1.0\n",
      "step 9504 of 20000 / validation accuracy: 1.0\n",
      "step 9570 of 20000 / validation accuracy: 1.0\n",
      "step 9636 of 20000 / validation accuracy: 1.0\n",
      "step 9702 of 20000 / validation accuracy: 1.0\n",
      "step 9768 of 20000 / validation accuracy: 1.0\n",
      "step 9834 of 20000 / validation accuracy: 1.0\n",
      "step 9900 of 20000 / validation accuracy: 0.976744\n",
      "step 9966 of 20000 / validation accuracy: 1.0\n",
      "step 10032 of 20000 / validation accuracy: 1.0\n",
      "step 10098 of 20000 / validation accuracy: 1.0\n",
      "step 10164 of 20000 / validation accuracy: 1.0\n",
      "step 10230 of 20000 / validation accuracy: 1.0\n",
      "step 10296 of 20000 / validation accuracy: 1.0\n",
      "step 10362 of 20000 / validation accuracy: 1.0\n",
      "step 10428 of 20000 / validation accuracy: 1.0\n",
      "step 10494 of 20000 / validation accuracy: 1.0\n",
      "step 10560 of 20000 / validation accuracy: 1.0\n",
      "step 10626 of 20000 / validation accuracy: 1.0\n",
      "step 10692 of 20000 / validation accuracy: 1.0\n",
      "step 10758 of 20000 / validation accuracy: 1.0\n",
      "step 10824 of 20000 / validation accuracy: 1.0\n",
      "step 10890 of 20000 / validation accuracy: 1.0\n",
      "step 10956 of 20000 / validation accuracy: 1.0\n",
      "step 11022 of 20000 / validation accuracy: 1.0\n",
      "step 11088 of 20000 / validation accuracy: 1.0\n",
      "step 11154 of 20000 / validation accuracy: 1.0\n",
      "step 11220 of 20000 / validation accuracy: 1.0\n",
      "step 11286 of 20000 / validation accuracy: 1.0\n",
      "step 11352 of 20000 / validation accuracy: 1.0\n",
      "step 11418 of 20000 / validation accuracy: 1.0\n",
      "step 11484 of 20000 / validation accuracy: 1.0\n",
      "step 11550 of 20000 / validation accuracy: 1.0\n",
      "step 11616 of 20000 / validation accuracy: 1.0\n",
      "step 11682 of 20000 / validation accuracy: 1.0\n",
      "step 11748 of 20000 / validation accuracy: 1.0\n",
      "step 11814 of 20000 / validation accuracy: 1.0\n",
      "step 11880 of 20000 / validation accuracy: 1.0\n",
      "step 11946 of 20000 / validation accuracy: 1.0\n",
      "step 12012 of 20000 / validation accuracy: 1.0\n",
      "step 12078 of 20000 / validation accuracy: 1.0\n",
      "step 12144 of 20000 / validation accuracy: 1.0\n",
      "step 12210 of 20000 / validation accuracy: 1.0\n",
      "step 12276 of 20000 / validation accuracy: 1.0\n",
      "step 12342 of 20000 / validation accuracy: 1.0\n",
      "step 12408 of 20000 / validation accuracy: 1.0\n",
      "step 12474 of 20000 / validation accuracy: 1.0\n",
      "step 12540 of 20000 / validation accuracy: 1.0\n",
      "step 12606 of 20000 / validation accuracy: 1.0\n",
      "step 12672 of 20000 / validation accuracy: 1.0\n",
      "step 12738 of 20000 / validation accuracy: 1.0\n",
      "step 12804 of 20000 / validation accuracy: 1.0\n",
      "step 12870 of 20000 / validation accuracy: 1.0\n",
      "step 12936 of 20000 / validation accuracy: 1.0\n",
      "step 13002 of 20000 / validation accuracy: 1.0\n",
      "step 13068 of 20000 / validation accuracy: 1.0\n",
      "step 13134 of 20000 / validation accuracy: 1.0\n",
      "step 13200 of 20000 / validation accuracy: 1.0\n",
      "step 13266 of 20000 / validation accuracy: 1.0\n",
      "step 13332 of 20000 / validation accuracy: 1.0\n"
     ]
    },
    {
     "ename": "KeyboardInterrupt",
     "evalue": "",
     "output_type": "error",
     "traceback": [
      "\u001b[0;31m\u001b[0m",
      "\u001b[0;31mKeyboardInterrupt\u001b[0mTraceback (most recent call last)",
      "\u001b[0;32m<ipython-input-8-950a05bbfd38>\u001b[0m in \u001b[0;36m<module>\u001b[0;34m()\u001b[0m\n\u001b[1;32m      8\u001b[0m \u001b[0;34m\u001b[0m\u001b[0m\n\u001b[1;32m      9\u001b[0m     \u001b[0mbatch_features\u001b[0m\u001b[0;34m,\u001b[0m \u001b[0mbatch_labels\u001b[0m \u001b[0;34m=\u001b[0m \u001b[0mgenerate_batch\u001b[0m\u001b[0;34m(\u001b[0m\u001b[0mtrain_features\u001b[0m\u001b[0;34m,\u001b[0m \u001b[0mtrain_labels\u001b[0m\u001b[0;34m,\u001b[0m \u001b[0mBATCH_SIZE\u001b[0m\u001b[0;34m)\u001b[0m\u001b[0;34m\u001b[0m\u001b[0m\n\u001b[0;32m---> 10\u001b[0;31m     \u001b[0mmodel\u001b[0m\u001b[0;34m.\u001b[0m\u001b[0mtrain_step\u001b[0m\u001b[0;34m(\u001b[0m\u001b[0mfeatures_batch\u001b[0m\u001b[0;34m=\u001b[0m\u001b[0mbatch_features\u001b[0m\u001b[0;34m,\u001b[0m \u001b[0mlabels_batch\u001b[0m\u001b[0;34m=\u001b[0m\u001b[0mbatch_labels\u001b[0m\u001b[0;34m)\u001b[0m\u001b[0;34m\u001b[0m\u001b[0m\n\u001b[0m",
      "\u001b[0;32m<ipython-input-2-7216b7615f1e>\u001b[0m in \u001b[0;36mtrain_step\u001b[0;34m(self, features_batch, labels_batch)\u001b[0m\n\u001b[1;32m     93\u001b[0m                         \u001b[0mself\u001b[0m\u001b[0;34m.\u001b[0m\u001b[0m_keep_prob_1\u001b[0m\u001b[0;34m:\u001b[0m \u001b[0;36m0.75\u001b[0m\u001b[0;34m\u001b[0m\u001b[0m\n\u001b[1;32m     94\u001b[0m                     }\n\u001b[0;32m---> 95\u001b[0;31m         \u001b[0mself\u001b[0m\u001b[0;34m.\u001b[0m\u001b[0m_sess\u001b[0m\u001b[0;34m.\u001b[0m\u001b[0mrun\u001b[0m\u001b[0;34m(\u001b[0m\u001b[0mself\u001b[0m\u001b[0;34m.\u001b[0m\u001b[0m_train_step\u001b[0m\u001b[0;34m,\u001b[0m \u001b[0mfeed_dict\u001b[0m\u001b[0;34m=\u001b[0m\u001b[0mfeed_dict\u001b[0m\u001b[0;34m)\u001b[0m\u001b[0;34m\u001b[0m\u001b[0m\n\u001b[0m\u001b[1;32m     96\u001b[0m \u001b[0;34m\u001b[0m\u001b[0m\n\u001b[1;32m     97\u001b[0m     \u001b[0;32mdef\u001b[0m \u001b[0mget_accuracy\u001b[0m\u001b[0;34m(\u001b[0m\u001b[0mself\u001b[0m\u001b[0;34m,\u001b[0m \u001b[0mfeatures\u001b[0m\u001b[0;34m,\u001b[0m \u001b[0mlabels\u001b[0m\u001b[0;34m)\u001b[0m\u001b[0;34m:\u001b[0m\u001b[0;34m\u001b[0m\u001b[0m\n",
      "\u001b[0;32m/usr/local/lib/python2.7/dist-packages/tensorflow/python/client/session.pyc\u001b[0m in \u001b[0;36mrun\u001b[0;34m(self, fetches, feed_dict, options, run_metadata)\u001b[0m\n\u001b[1;32m    380\u001b[0m     \u001b[0;32mtry\u001b[0m\u001b[0;34m:\u001b[0m\u001b[0;34m\u001b[0m\u001b[0m\n\u001b[1;32m    381\u001b[0m       result = self._run(None, fetches, feed_dict, options_ptr,\n\u001b[0;32m--> 382\u001b[0;31m                          run_metadata_ptr)\n\u001b[0m\u001b[1;32m    383\u001b[0m       \u001b[0;32mif\u001b[0m \u001b[0mrun_metadata\u001b[0m\u001b[0;34m:\u001b[0m\u001b[0;34m\u001b[0m\u001b[0m\n\u001b[1;32m    384\u001b[0m         \u001b[0mproto_data\u001b[0m \u001b[0;34m=\u001b[0m \u001b[0mtf_session\u001b[0m\u001b[0;34m.\u001b[0m\u001b[0mTF_GetBuffer\u001b[0m\u001b[0;34m(\u001b[0m\u001b[0mrun_metadata_ptr\u001b[0m\u001b[0;34m)\u001b[0m\u001b[0;34m\u001b[0m\u001b[0m\n",
      "\u001b[0;32m/usr/local/lib/python2.7/dist-packages/tensorflow/python/client/session.pyc\u001b[0m in \u001b[0;36m_run\u001b[0;34m(self, handle, fetches, feed_dict, options, run_metadata)\u001b[0m\n\u001b[1;32m    653\u001b[0m     \u001b[0mmovers\u001b[0m \u001b[0;34m=\u001b[0m \u001b[0mself\u001b[0m\u001b[0;34m.\u001b[0m\u001b[0m_update_with_movers\u001b[0m\u001b[0;34m(\u001b[0m\u001b[0mfeed_dict_string\u001b[0m\u001b[0;34m,\u001b[0m \u001b[0mfeed_map\u001b[0m\u001b[0;34m)\u001b[0m\u001b[0;34m\u001b[0m\u001b[0m\n\u001b[1;32m    654\u001b[0m     results = self._do_run(handle, target_list, unique_fetches,\n\u001b[0;32m--> 655\u001b[0;31m                            feed_dict_string, options, run_metadata)\n\u001b[0m\u001b[1;32m    656\u001b[0m \u001b[0;34m\u001b[0m\u001b[0m\n\u001b[1;32m    657\u001b[0m     \u001b[0;31m# User may have fetched the same tensor multiple times, but we\u001b[0m\u001b[0;34m\u001b[0m\u001b[0;34m\u001b[0m\u001b[0m\n",
      "\u001b[0;32m/usr/local/lib/python2.7/dist-packages/tensorflow/python/client/session.pyc\u001b[0m in \u001b[0;36m_do_run\u001b[0;34m(self, handle, target_list, fetch_list, feed_dict, options, run_metadata)\u001b[0m\n\u001b[1;32m    721\u001b[0m     \u001b[0;32mif\u001b[0m \u001b[0mhandle\u001b[0m \u001b[0;32mis\u001b[0m \u001b[0mNone\u001b[0m\u001b[0;34m:\u001b[0m\u001b[0;34m\u001b[0m\u001b[0m\n\u001b[1;32m    722\u001b[0m       return self._do_call(_run_fn, self._session, feed_dict, fetch_list,\n\u001b[0;32m--> 723\u001b[0;31m                            target_list, options, run_metadata)\n\u001b[0m\u001b[1;32m    724\u001b[0m     \u001b[0;32melse\u001b[0m\u001b[0;34m:\u001b[0m\u001b[0;34m\u001b[0m\u001b[0m\n\u001b[1;32m    725\u001b[0m       return self._do_call(_prun_fn, self._session, handle, feed_dict,\n",
      "\u001b[0;32m/usr/local/lib/python2.7/dist-packages/tensorflow/python/client/session.pyc\u001b[0m in \u001b[0;36m_do_call\u001b[0;34m(self, fn, *args)\u001b[0m\n\u001b[1;32m    728\u001b[0m   \u001b[0;32mdef\u001b[0m \u001b[0m_do_call\u001b[0m\u001b[0;34m(\u001b[0m\u001b[0mself\u001b[0m\u001b[0;34m,\u001b[0m \u001b[0mfn\u001b[0m\u001b[0;34m,\u001b[0m \u001b[0;34m*\u001b[0m\u001b[0margs\u001b[0m\u001b[0;34m)\u001b[0m\u001b[0;34m:\u001b[0m\u001b[0;34m\u001b[0m\u001b[0m\n\u001b[1;32m    729\u001b[0m     \u001b[0;32mtry\u001b[0m\u001b[0;34m:\u001b[0m\u001b[0;34m\u001b[0m\u001b[0m\n\u001b[0;32m--> 730\u001b[0;31m       \u001b[0;32mreturn\u001b[0m \u001b[0mfn\u001b[0m\u001b[0;34m(\u001b[0m\u001b[0;34m*\u001b[0m\u001b[0margs\u001b[0m\u001b[0;34m)\u001b[0m\u001b[0;34m\u001b[0m\u001b[0m\n\u001b[0m\u001b[1;32m    731\u001b[0m     \u001b[0;32mexcept\u001b[0m \u001b[0merrors\u001b[0m\u001b[0;34m.\u001b[0m\u001b[0mOpError\u001b[0m \u001b[0;32mas\u001b[0m \u001b[0me\u001b[0m\u001b[0;34m:\u001b[0m\u001b[0;34m\u001b[0m\u001b[0m\n\u001b[1;32m    732\u001b[0m       \u001b[0mmessage\u001b[0m \u001b[0;34m=\u001b[0m \u001b[0mcompat\u001b[0m\u001b[0;34m.\u001b[0m\u001b[0mas_text\u001b[0m\u001b[0;34m(\u001b[0m\u001b[0me\u001b[0m\u001b[0;34m.\u001b[0m\u001b[0mmessage\u001b[0m\u001b[0;34m)\u001b[0m\u001b[0;34m\u001b[0m\u001b[0m\n",
      "\u001b[0;32m/usr/local/lib/python2.7/dist-packages/tensorflow/python/client/session.pyc\u001b[0m in \u001b[0;36m_run_fn\u001b[0;34m(session, feed_dict, fetch_list, target_list, options, run_metadata)\u001b[0m\n\u001b[1;32m    710\u001b[0m         return tf_session.TF_Run(session, options,\n\u001b[1;32m    711\u001b[0m                                  \u001b[0mfeed_dict\u001b[0m\u001b[0;34m,\u001b[0m \u001b[0mfetch_list\u001b[0m\u001b[0;34m,\u001b[0m \u001b[0mtarget_list\u001b[0m\u001b[0;34m,\u001b[0m\u001b[0;34m\u001b[0m\u001b[0m\n\u001b[0;32m--> 712\u001b[0;31m                                  status, run_metadata)\n\u001b[0m\u001b[1;32m    713\u001b[0m \u001b[0;34m\u001b[0m\u001b[0m\n\u001b[1;32m    714\u001b[0m     \u001b[0;32mdef\u001b[0m \u001b[0m_prun_fn\u001b[0m\u001b[0;34m(\u001b[0m\u001b[0msession\u001b[0m\u001b[0;34m,\u001b[0m \u001b[0mhandle\u001b[0m\u001b[0;34m,\u001b[0m \u001b[0mfeed_dict\u001b[0m\u001b[0;34m,\u001b[0m \u001b[0mfetch_list\u001b[0m\u001b[0;34m)\u001b[0m\u001b[0;34m:\u001b[0m\u001b[0;34m\u001b[0m\u001b[0m\n",
      "\u001b[0;31mKeyboardInterrupt\u001b[0m: "
     ]
    }
   ],
   "source": [
    "accuracy_history = []\n",
    "\n",
    "for i in range(TRAINING_STEPS):  \n",
    "    if i == 0 or (i + 1) % (TRAINING_STEPS // 300) == 0 or (i + 1) == TRAINING_STEPS:\n",
    "        accuracy = model.get_accuracy(features=validation_features, labels=validation_labels)\n",
    "        accuracy_history.append(accuracy)\n",
    "        print 'step', i + 1, 'of', TRAINING_STEPS, '/ validation accuracy:', accuracy\n",
    "        \n",
    "    batch_features, batch_labels = generate_batch(train_features, train_labels, BATCH_SIZE)\n",
    "    model.train_step(features_batch=batch_features, labels_batch=batch_labels)"
   ]
  },
  {
   "cell_type": "code",
   "execution_count": 9,
   "metadata": {
    "collapsed": false
   },
   "outputs": [
    {
     "data": {
      "text/plain": [
       "[<matplotlib.lines.Line2D at 0x7f33ac12ab10>]"
      ]
     },
     "execution_count": 9,
     "metadata": {},
     "output_type": "execute_result"
    },
    {
     "data": {
      "image/png": "[encoded data removed]",
      "text/plain": [
       "<matplotlib.figure.Figure at 0x7f33a61cead0>"
      ]
     },
     "metadata": {},
     "output_type": "display_data"
    }
   ],
   "source": [
    "# plot validation accuracy\n",
    "plt.gca().set_ylim(bottom=0.95, top=1)\n",
    "plt.plot(accuracy_history)"
   ]
  },
  {
   "cell_type": "code",
   "execution_count": 16,
   "metadata": {
    "collapsed": false
   },
   "outputs": [],
   "source": [
    "# read test data\n",
    "test_features = read_features_from_csv('test.csv', usecols=None)"
   ]
  },
  {
   "cell_type": "code",
   "execution_count": 11,
   "metadata": {
    "collapsed": false
   },
   "outputs": [
    {
     "data": {
      "text/plain": [
       "<matplotlib.image.AxesImage at 0x7f33acaa5090>"
      ]
     },
     "execution_count": 11,
     "metadata": {},
     "output_type": "execute_result"
    },
    {
     "data": {
      "image/png": "[encoded data removed]",
      "text/plain": [
       "<matplotlib.figure.Figure at 0x7f33b35ba290>"
      ]
     },
     "metadata": {},
     "output_type": "display_data"
    }
   ],
   "source": [
    "# validate one image\n",
    "test_index = 123\n",
    "plt.imshow(np.reshape(test_features[test_index], (28, 28)))"
   ]
  },
  {
   "cell_type": "code",
   "execution_count": 12,
   "metadata": {
    "collapsed": false
   },
   "outputs": [
    {
     "data": {
      "text/plain": [
       "[<matplotlib.lines.Line2D at 0x7f33bb5e0390>]"
      ]
     },
     "execution_count": 12,
     "metadata": {},
     "output_type": "execute_result"
    },
    {
     "data": {
      "image/png": "[encoded data removed]",
      "text/plain": [
       "<matplotlib.figure.Figure at 0x7f33b336de50>"
      ]
     },
     "metadata": {},
     "output_type": "display_data"
    }
   ],
   "source": [
    "readout = model.get_readout([test_features[test_index]])\n",
    "plt.plot(readout[0])"
   ]
  },
  {
   "cell_type": "code",
   "execution_count": 13,
   "metadata": {
    "collapsed": true
   },
   "outputs": [],
   "source": [
    "# looks right!"
   ]
  },
  {
   "cell_type": "markdown",
   "metadata": {},
   "source": [
    "#### Create Submission File"
   ]
  },
  {
   "cell_type": "code",
   "execution_count": 17,
   "metadata": {
    "collapsed": false
   },
   "outputs": [],
   "source": [
    "# run model on test data\n",
    "readout1 = model.get_readout(test_features[:14000])\n",
    "readout2 = model.get_readout(test_features[14000:])\n",
    "\n",
    "# convert softmax predictions to label\n",
    "readout1 = np.argmax(readout1, axis=1)\n",
    "readout2 = np.argmax(readout2, axis=1)\n",
    "                    \n",
    "# add digit ids\n",
    "readout1 = [np.arange(1, 1 + len(readout1)), readout1]\n",
    "readout1 = np.transpose(readout1)\n",
    "readout2 = [np.arange(len(readout2) + 1, 1 + len(readout2) + len(readout1)), readout2]\n",
    "readout2 = np.transpose(readout2)\n",
    "\n",
    "readout = np.concatenate((readout1, readout2))"
   ]
  },
  {
   "cell_type": "code",
   "execution_count": 18,
   "metadata": {
    "collapsed": true
   },
   "outputs": [],
   "source": [
    "# write to csv file\n",
    "np.savetxt('submission-deep-e.csv', readout, fmt='%i,%i', header='ImageId,Label', comments='')"
   ]
  }
 ],
 "metadata": {
  "kernelspec": {
   "display_name": "Python 2",
   "language": "python",
   "name": "python2"
  },
  "language_info": {
   "codemirror_mode": {
    "name": "ipython",
    "version": 2
   },
   "file_extension": ".py",
   "mimetype": "text/x-python",
   "name": "python",
   "nbconvert_exporter": "python",
   "pygments_lexer": "ipython2",
   "version": "2.7.6"
  }
 },
 "nbformat": 4,
 "nbformat_minor": 1
}
